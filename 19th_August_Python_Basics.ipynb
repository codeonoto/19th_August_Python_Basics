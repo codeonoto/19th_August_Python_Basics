{
 "cells": [
  {
   "cell_type": "markdown",
   "id": "632c4889-6670-4caa-9e12-ad8b7e21a700",
   "metadata": {
    "tags": []
   },
   "source": [
    "#### TOPIC: Python Basics Variable"
   ]
  },
  {
   "cell_type": "markdown",
   "id": "61022069-f69f-4698-bd0e-bb2002e5f8bc",
   "metadata": {
    "tags": []
   },
   "source": [
    "1. Declare two variables, `x` and `y`, and assign them integer values. Swap the values of these variables without using any temporary variable."
   ]
  },
  {
   "cell_type": "code",
   "execution_count": null,
   "id": "783046da-4a7f-49e5-a589-e868049b8990",
   "metadata": {},
   "outputs": [],
   "source": [
    "x = \"3\"\n",
    "y = \"4\"\n",
    "\n",
    "x,y = y,x\n",
    "\n",
    "x,y"
   ]
  },
  {
   "cell_type": "markdown",
   "id": "c0473c2e-6f40-4325-aad3-e5d455be612b",
   "metadata": {},
   "source": [
    "2. Create a program that calculates the area of a rectangle. Take the length andwidth as inputs from the user and store them in variables. Calculate anddisplay the area."
   ]
  },
  {
   "cell_type": "code",
   "execution_count": 9,
   "id": "93768eb0-61e9-4219-97bd-514a19a863a0",
   "metadata": {},
   "outputs": [
    {
     "name": "stdin",
     "output_type": "stream",
     "text": [
      "Enter The Value Of Length : 2\n",
      "Enter The Value Of Width : 2\n"
     ]
    },
    {
     "name": "stdout",
     "output_type": "stream",
     "text": [
      "Area of Rectangle is :\n"
     ]
    },
    {
     "data": {
      "text/plain": [
       "4"
      ]
     },
     "execution_count": 9,
     "metadata": {},
     "output_type": "execute_result"
    }
   ],
   "source": [
    "length = int(input(\"Enter The Value Of Length :\"));\n",
    "width = int(input(\"Enter The Value Of Width :\"));\n",
    "\n",
    "area = (length * width)\n",
    "\n",
    "print(\"Area of Rectangle is :\")\n",
    "area\n"
   ]
  },
  {
   "cell_type": "markdown",
   "id": "316ebf06-919f-47d6-abf7-30d9f91ce986",
   "metadata": {},
   "source": [
    "Write a Python program that converts temperatures from Celsius to\n",
    "Fahrenheit. Take the temperature in Celsius as input, store it in a variable,\n",
    "convert it to Fahrenheit, and display the result."
   ]
  },
  {
   "cell_type": "code",
   "execution_count": 13,
   "id": "e0d18887-c0b7-4164-8e0d-0fb87e9677c6",
   "metadata": {},
   "outputs": [
    {
     "name": "stdin",
     "output_type": "stream",
     "text": [
      "Enter temperature in celsius:  12\n"
     ]
    },
    {
     "name": "stdout",
     "output_type": "stream",
     "text": [
      "Temp in Fahrenheit Will Be : \n"
     ]
    },
    {
     "data": {
      "text/plain": [
       "53.6"
      ]
     },
     "execution_count": 13,
     "metadata": {},
     "output_type": "execute_result"
    }
   ],
   "source": [
    "celsius_temp = float(input(\"Enter temperature in celsius: \"))\n",
    "\n",
    "far_temp = (celsius_temp * 9/5) + 32 \n",
    "\n",
    "print(\"Temp in Fahrenheit Will Be : \")\n",
    "far_temp"
   ]
  },
  {
   "cell_type": "markdown",
   "id": "ed811962-c133-41a6-bf31-d36c8e61dfb8",
   "metadata": {
    "tags": []
   },
   "source": [
    "#### TOPIC: String Based Questions"
   ]
  },
  {
   "cell_type": "markdown",
   "id": "f7bb1c67-5226-40b8-a271-f4724bfd14fd",
   "metadata": {},
   "source": [
    "1. Write a Python program that takes a string as input and prints the length of\n",
    "the string."
   ]
  },
  {
   "cell_type": "code",
   "execution_count": 16,
   "id": "83e4d3f2-2cae-462d-9e76-648e9ab376a8",
   "metadata": {},
   "outputs": [
    {
     "name": "stdin",
     "output_type": "stream",
     "text": [
      "Enter Your Name :  sblock\n"
     ]
    },
    {
     "name": "stdout",
     "output_type": "stream",
     "text": [
      "The Lenght of Your Name is :\n"
     ]
    },
    {
     "data": {
      "text/plain": [
       "6"
      ]
     },
     "execution_count": 16,
     "metadata": {},
     "output_type": "execute_result"
    }
   ],
   "source": [
    "s1 = input(\"Enter Your Name : \")\n",
    "\n",
    "print(\"The Lenght of Your Name is :\")\n",
    "len(s1)"
   ]
  },
  {
   "cell_type": "markdown",
   "id": "385a0fac-0301-41df-9733-2742a62971d0",
   "metadata": {},
   "source": [
    "2. Create a program that takes a sentence from the user and counts the number\n",
    "of vowels (a, e, i, o, u) in the string."
   ]
  },
  {
   "cell_type": "code",
   "execution_count": 17,
   "id": "dddf78f3-8531-4a74-b2e3-c127462d64cc",
   "metadata": {},
   "outputs": [
    {
     "name": "stdin",
     "output_type": "stream",
     "text": [
      "Enter a sentence:  sblock\n"
     ]
    },
    {
     "name": "stdout",
     "output_type": "stream",
     "text": [
      "Number of vowels: 1\n"
     ]
    }
   ],
   "source": [
    "sentence = input(\"Enter a sentence: \")\n",
    "\n",
    "vowel_count = 0\n",
    "\n",
    "for char in sentence:\n",
    "    char_lower = char.lower()\n",
    "\n",
    "    if char_lower in \"aeiou\":\n",
    "        vowel_count += 1\n",
    "\n",
    "print(\"Number of vowels:\", vowel_count)"
   ]
  },
  {
   "cell_type": "markdown",
   "id": "cb9d9392-4e3a-4a91-8dcb-298287726cf4",
   "metadata": {},
   "source": [
    "3. Given a string, reverse the order of characters using string slicing and print\n",
    "the reversed string.\n"
   ]
  },
  {
   "cell_type": "code",
   "execution_count": 20,
   "id": "6789be01-9274-4d8d-b855-33175e1e1092",
   "metadata": {},
   "outputs": [
    {
     "name": "stdin",
     "output_type": "stream",
     "text": [
      "Enter Any Sentence HELLO\n"
     ]
    },
    {
     "name": "stdout",
     "output_type": "stream",
     "text": [
      "Your Reverse of Srting is  OLLEH\n"
     ]
    }
   ],
   "source": [
    "input_str = input(\"Enter Any Sentence\")\n",
    "\n",
    "reverse_str = input_str[::-1]\n",
    "\n",
    "print(\"Your Reverse of Srting is \", reverse_str)"
   ]
  },
  {
   "cell_type": "markdown",
   "id": "ef2cf56f-8f50-4b0d-b37d-4324ff443a0c",
   "metadata": {},
   "source": [
    "4. Write a program that takes a string as input and checks if it is a palindrome\n",
    "(reads the same forwards and backwards)."
   ]
  },
  {
   "cell_type": "code",
   "execution_count": 22,
   "id": "f1ea7fec-599c-473d-bca5-cf05fcb243ab",
   "metadata": {},
   "outputs": [
    {
     "name": "stdin",
     "output_type": "stream",
     "text": [
      "Enter a string:  Lol\n"
     ]
    },
    {
     "name": "stdout",
     "output_type": "stream",
     "text": [
      "The input string is a palindrome.\n"
     ]
    }
   ],
   "source": [
    "\n",
    "input_string = input(\"Enter a string: \")\n",
    "\n",
    "cleaned_string = input_string.replace(\" \", \"\").lower()\n",
    "\n",
    "reversed_string = cleaned_string[::-1]\n",
    "\n",
    "if cleaned_string == reversed_string:\n",
    "    print(\"The input string is a palindrome.\")\n",
    "else:\n",
    "    print(\"The input string is not a palindrome.\")\n",
    "    "
   ]
  }
 ],
 "metadata": {
  "kernelspec": {
   "display_name": "Python 3 (ipykernel)",
   "language": "python",
   "name": "python3"
  },
  "language_info": {
   "codemirror_mode": {
    "name": "ipython",
    "version": 3
   },
   "file_extension": ".py",
   "mimetype": "text/x-python",
   "name": "python",
   "nbconvert_exporter": "python",
   "pygments_lexer": "ipython3",
   "version": "3.10.8"
  }
 },
 "nbformat": 4,
 "nbformat_minor": 5
}
